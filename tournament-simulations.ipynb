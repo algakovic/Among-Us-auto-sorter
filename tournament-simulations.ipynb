{
 "cells": [
  {
   "cell_type": "markdown",
   "metadata": {},
   "source": [
    "# Tournament Simulations"
   ]
  },
  {
   "cell_type": "markdown",
   "metadata": {},
   "source": [
    "## Among Us Tournament:  \n",
    "30 or 40 participants most likely \n",
    "\n",
    "### 3 phases:\n",
    "30 or 40 players in first phase, top 20 in second and top 10 in final phase\n",
    "\n",
    "#### 5 points for imposter win  \n",
    "- 1 points for imposter kill\n",
    "\n",
    "#### 4 points for crewmate win  \n",
    "- 2 point for correct vote  \n",
    "- -1 point for incorrect vote\n"
   ]
  },
  {
   "cell_type": "code",
   "execution_count": 1,
   "metadata": {},
   "outputs": [],
   "source": [
    "# from random import shuffle\n",
    "# import numpy as np\n",
    "\n",
    "from Autosorter import among_us_lobby_sorter"
   ]
  },
  {
   "cell_type": "markdown",
   "metadata": {},
   "source": [
    "# Auto-sort function for Among us Lobbies for future tournaments:"
   ]
  },
  {
   "cell_type": "markdown",
   "metadata": {},
   "source": [
    "The code in this notebook and script file is designed to randomly auto-sort a large number of participants e.g. 20, 30 or 40 into groups of 10 for fair tournament level games. The output will produce txt files with designated assortments of players called lobbies.\n",
    "\n",
    "Usage: The following code needs files called participants.txt, standby.txt and admins.txt which hold the names. One name on each new line and no extra lines.\n",
    "\n",
    "There should be 10, 20, 30, or 40 participants in participants an even number in admins, standby can have as many as it wants. Admins must also be present in participants."
   ]
  },
  {
   "cell_type": "code",
   "execution_count": 2,
   "metadata": {},
   "outputs": [],
   "source": [
    "lobbies = among_us_lobby_sorter()"
   ]
  },
  {
   "cell_type": "markdown",
   "metadata": {},
   "source": [
    "### Results:\n",
    "Uncomment the code below to see the results"
   ]
  },
  {
   "cell_type": "code",
   "execution_count": 4,
   "metadata": {},
   "outputs": [],
   "source": [
    "# lobbies"
   ]
  },
  {
   "cell_type": "markdown",
   "metadata": {},
   "source": [
    "### Saving results to output .txt files"
   ]
  },
  {
   "cell_type": "code",
   "execution_count": 7,
   "metadata": {},
   "outputs": [],
   "source": [
    "#write out phase2lobby parties to txt files:\n",
    "for i, lobby in enumerate(lobbies, 1):\n",
    "    with open(f'phase2lobby{i}.txt', 'w') as f:\n",
    "        for item in lobby:\n",
    "            f.write(\"%s\\n\" % item)"
   ]
  },
  {
   "cell_type": "markdown",
   "metadata": {},
   "source": [
    "# Recommendations for future implementations:\n",
    "[X] Number of admins and participants can be variable\n"
   ]
  }
 ],
 "metadata": {
  "kernelspec": {
   "display_name": "Python 3",
   "language": "python",
   "name": "python3"
  },
  "language_info": {
   "codemirror_mode": {
    "name": "ipython",
    "version": 3
   },
   "file_extension": ".py",
   "mimetype": "text/x-python",
   "name": "python",
   "nbconvert_exporter": "python",
   "pygments_lexer": "ipython3",
   "version": "3.7.4"
  }
 },
 "nbformat": 4,
 "nbformat_minor": 4
}
