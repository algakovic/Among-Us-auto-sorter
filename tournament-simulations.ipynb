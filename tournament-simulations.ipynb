{
 "cells": [
  {
   "cell_type": "markdown",
   "metadata": {},
   "source": [
    "# Tournament Simulations"
   ]
  },
  {
   "cell_type": "markdown",
   "metadata": {},
   "source": [
    "## Among Us Tournament:  \n",
    "30 or 40 participants most likely \n",
    "\n",
    "### 3 phases:\n",
    "30 or 40 players in first phase, top 20 in second and top 10 in final phase\n",
    "\n",
    "#### 5 points for imposter win  \n",
    "- 1 points for imposter kill\n",
    "\n",
    "#### 4 points for crewmate win  \n",
    "- 2 point for correct vote  \n",
    "- -1 point for incorrect vote\n"
   ]
  },
  {
   "cell_type": "code",
   "execution_count": 9,
   "metadata": {},
   "outputs": [],
   "source": [
    "from random import shuffle\n",
    "import numpy as np\n",
    "from math import factorial"
   ]
  },
  {
   "cell_type": "markdown",
   "metadata": {},
   "source": [
    "## Score Normalisation"
   ]
  },
  {
   "cell_type": "code",
   "execution_count": 2,
   "metadata": {},
   "outputs": [],
   "source": [
    "test_scores = np.array([15, 60, 54, 32, 40, 30])"
   ]
  },
  {
   "cell_type": "code",
   "execution_count": 3,
   "metadata": {},
   "outputs": [],
   "source": [
    "N_games = 10"
   ]
  },
  {
   "cell_type": "markdown",
   "metadata": {},
   "source": [
    "### Averaging"
   ]
  },
  {
   "cell_type": "code",
   "execution_count": 4,
   "metadata": {},
   "outputs": [
    {
     "data": {
      "text/plain": [
       "array([1.5, 6. , 5.4, 3.2, 4. , 3. ])"
      ]
     },
     "execution_count": 4,
     "metadata": {},
     "output_type": "execute_result"
    }
   ],
   "source": [
    "test_scores/N_games"
   ]
  },
  {
   "cell_type": "markdown",
   "metadata": {},
   "source": [
    "# Auto-sort function for Among us Lobbies for future tournaments:"
   ]
  },
  {
   "cell_type": "code",
   "execution_count": 10,
   "metadata": {},
   "outputs": [],
   "source": [
    "def among_us_lobby_sorter():\n",
    "    \n",
    "    # Make a copy of participant list for shuffling\n",
    "    shuffled_participants = participants.copy()\n",
    "    \n",
    "    shuffle(admins)\n",
    "    admins_copy = admins.copy()\n",
    "    \n",
    "    lobby1, lobby2, lobby3, lobby4 = [],[],[],[]\n",
    "    lobbies = lobby1, lobby2, lobby3, lobby4\n",
    "\n",
    "    while len(admins_copy) > 0:\n",
    "        for lobby in lobbies[:3]:\n",
    "            lobby.append(admins_copy.pop())\n",
    "        \n",
    "    for admin in admins:\n",
    "        shuffled_participants.remove(admin)\n",
    "        \n",
    "    shuffle(shuffled_participants)\n",
    "\n",
    "    while len(shuffled_participants) >0:\n",
    "        for lobby in lobbies[:3]:\n",
    "            lobby.append(shuffled_participants.pop())\n",
    "\n",
    "    # standby participants:\n",
    "    while len (standby)>0:\n",
    "        lobbies[3].append(standby.pop())\n",
    "    \n",
    "    return lobbies"
   ]
  },
  {
   "cell_type": "markdown",
   "metadata": {},
   "source": [
    "# Randomisation of participants into teams of ten:"
   ]
  },
  {
   "cell_type": "markdown",
   "metadata": {},
   "source": [
    "The following code needs files called participants.txt, standby.txt and admins.txt which hold the names. One name on each new line and no extra lines.\n",
    "\n",
    "There should be 30 participants in participants 6 in admins, standby can have as many as it wants."
   ]
  },
  {
   "cell_type": "code",
   "execution_count": 11,
   "metadata": {},
   "outputs": [],
   "source": [
    "# Import admin and participant data from txt file:\n",
    "with open('participants.txt', 'r') as party, open('admins.txt', 'r') as adminlist, open('standby.txt', 'r') as standby:\n",
    "    participants = party.read().split('\\n')\n",
    "    admins = adminlist.read().split('\\n')\n",
    "    standby = standby.read().split('\\n')"
   ]
  },
  {
   "cell_type": "code",
   "execution_count": 6,
   "metadata": {},
   "outputs": [],
   "source": [
    "# Make a copy of participant list for shuffling\n",
    "shuffled_participants = participants.copy()"
   ]
  },
  {
   "cell_type": "code",
   "execution_count": 7,
   "metadata": {},
   "outputs": [
    {
     "data": {
      "text/plain": [
       "30"
      ]
     },
     "execution_count": 7,
     "metadata": {},
     "output_type": "execute_result"
    }
   ],
   "source": [
    "len(participants)"
   ]
  },
  {
   "cell_type": "markdown",
   "metadata": {},
   "source": [
    "### Seeding admins into the lobbies:"
   ]
  },
  {
   "cell_type": "code",
   "execution_count": 32,
   "metadata": {},
   "outputs": [],
   "source": [
    "shuffle(admins)\n",
    "admins_copy = admins.copy()"
   ]
  },
  {
   "cell_type": "code",
   "execution_count": 9,
   "metadata": {},
   "outputs": [],
   "source": [
    "lobby1, lobby2, lobby3, lobby4 = [],[],[],[]\n",
    "lobbies = lobby1, lobby2, lobby3, lobby4\n",
    "\n",
    "while len(admins_copy) > 0:\n",
    "    for lobby in lobbies[:3]:\n",
    "        lobby.append(admins_copy.pop())\n",
    "        \n",
    "for admin in admins:\n",
    "    shuffled_participants.remove(admin)"
   ]
  },
  {
   "cell_type": "markdown",
   "metadata": {},
   "source": [
    "### Seeding participants randomly into lobbies:"
   ]
  },
  {
   "cell_type": "code",
   "execution_count": 11,
   "metadata": {},
   "outputs": [],
   "source": [
    "shuffle(shuffled_participants)\n",
    "\n",
    "while len(shuffled_participants) >0:\n",
    "    for lobby in lobbies[:3]:\n",
    "        lobby.append(shuffled_participants.pop())\n",
    "\n",
    "# standby participants:\n",
    "while len (standby)>0:\n",
    "    lobbies[3].append(standby.pop())"
   ]
  },
  {
   "cell_type": "markdown",
   "metadata": {},
   "source": [
    "### Results:\n",
    "Uncomment the code below to see the results"
   ]
  },
  {
   "cell_type": "code",
   "execution_count": 31,
   "metadata": {},
   "outputs": [],
   "source": [
    "# lobbies"
   ]
  },
  {
   "cell_type": "code",
   "execution_count": 25,
   "metadata": {},
   "outputs": [],
   "source": [
    "# lobbies"
   ]
  },
  {
   "cell_type": "code",
   "execution_count": null,
   "metadata": {},
   "outputs": [],
   "source": [
    "# lobby2"
   ]
  },
  {
   "cell_type": "code",
   "execution_count": null,
   "metadata": {},
   "outputs": [],
   "source": [
    "# lobby3"
   ]
  },
  {
   "cell_type": "code",
   "execution_count": 23,
   "metadata": {},
   "outputs": [],
   "source": [
    "# lobby1"
   ]
  },
  {
   "cell_type": "code",
   "execution_count": 20,
   "metadata": {},
   "outputs": [],
   "source": [
    "# lobby4"
   ]
  },
  {
   "cell_type": "markdown",
   "metadata": {},
   "source": [
    "### Saving results to output .txt files"
   ]
  },
  {
   "cell_type": "code",
   "execution_count": 17,
   "metadata": {},
   "outputs": [],
   "source": [
    "#write out lobby parties to txt files:\n",
    "for i, lobby in enumerate(lobbies, 1):\n",
    "    with open(f'lobby{i}.txt', 'w') as f:\n",
    "        for item in lobby:\n",
    "            f.write(\"%s\\n\" % item)\n"
   ]
  },
  {
   "cell_type": "markdown",
   "metadata": {},
   "source": [
    "## Test Autosort function for Among us Tournaments:"
   ]
  },
  {
   "cell_type": "code",
   "execution_count": null,
   "metadata": {},
   "outputs": [],
   "source": [
    "# Test the auto sort function:\n",
    "lobbies = among_us_lobby_sorter()"
   ]
  },
  {
   "cell_type": "code",
   "execution_count": null,
   "metadata": {},
   "outputs": [],
   "source": [
    "#  Check output of Among us sorting function: \n",
    "# lobbies"
   ]
  },
  {
   "cell_type": "markdown",
   "metadata": {},
   "source": [
    "# Recommendations for future implementations:\n",
    "- Number of admins and participants can be variable\n"
   ]
  },
  {
   "cell_type": "code",
   "execution_count": null,
   "metadata": {},
   "outputs": [],
   "source": []
  }
 ],
 "metadata": {
  "kernelspec": {
   "display_name": "Python 3",
   "language": "python",
   "name": "python3"
  },
  "language_info": {
   "codemirror_mode": {
    "name": "ipython",
    "version": 3
   },
   "file_extension": ".py",
   "mimetype": "text/x-python",
   "name": "python",
   "nbconvert_exporter": "python",
   "pygments_lexer": "ipython3",
   "version": "3.7.4"
  }
 },
 "nbformat": 4,
 "nbformat_minor": 4
}
