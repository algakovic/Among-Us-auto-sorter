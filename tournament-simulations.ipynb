{
 "cells": [
  {
   "cell_type": "markdown",
   "metadata": {},
   "source": [
    "# Tournament Simulations"
   ]
  },
  {
   "cell_type": "markdown",
   "metadata": {},
   "source": [
    "## Among Us Tournament:  \n",
    "20, 30, or 40 people most likely \n",
    "\n",
    "3phases: skeld (all players) , mirahq (top 20), Polus(top 10)\n",
    "\n",
    "5 points for imposter win  \n",
    "- 1 points for imposter kill\n",
    "\n",
    "4 points for crewmate win  \n",
    "- 2 point for correct vote  \n",
    "- -1 point for incorrect vote\n"
   ]
  },
  {
   "cell_type": "markdown",
   "metadata": {},
   "source": [
    "# Team combinations"
   ]
  },
  {
   "cell_type": "code",
   "execution_count": 2,
   "metadata": {},
   "outputs": [],
   "source": [
    "from random import shuffle\n",
    "from collections import defaultdict\n",
    "import numpy as np\n",
    "from math import factorial"
   ]
  },
  {
   "cell_type": "code",
   "execution_count": 27,
   "metadata": {},
   "outputs": [],
   "source": [
    "players = list(range(1,31))\n",
    "teams = defaultdict(list)"
   ]
  },
  {
   "cell_type": "code",
   "execution_count": 36,
   "metadata": {},
   "outputs": [],
   "source": [
    "for i in range(1, 11):\n",
    "    teams[f'Team #{i}'] = []"
   ]
  },
  {
   "cell_type": "code",
   "execution_count": 37,
   "metadata": {},
   "outputs": [
    {
     "data": {
      "text/plain": [
       "defaultdict(list,\n",
       "            {'Team #1': [],\n",
       "             'Team #2': [],\n",
       "             'Team #3': [],\n",
       "             'Team #4': [],\n",
       "             'Team #5': [],\n",
       "             'Team #6': [],\n",
       "             'Team #7': [],\n",
       "             'Team #8': [],\n",
       "             'Team #9': [],\n",
       "             'Team #10': []})"
      ]
     },
     "execution_count": 37,
     "metadata": {},
     "output_type": "execute_result"
    }
   ],
   "source": [
    "teams"
   ]
  },
  {
   "cell_type": "code",
   "execution_count": 43,
   "metadata": {},
   "outputs": [],
   "source": [
    "# 30 players and 10 teams so 30 choose 10:\n",
    "combinations_of_players = factorial(30)/(factorial(10)*factorial(20))"
   ]
  },
  {
   "cell_type": "code",
   "execution_count": 47,
   "metadata": {},
   "outputs": [
    {
     "data": {
      "text/plain": [
       "30045015.0"
      ]
     },
     "execution_count": 47,
     "metadata": {},
     "output_type": "execute_result"
    }
   ],
   "source": [
    "combinations_of_players"
   ]
  },
  {
   "cell_type": "markdown",
   "metadata": {},
   "source": [
    "## Normalisation of Player scores"
   ]
  },
  {
   "cell_type": "code",
   "execution_count": 57,
   "metadata": {},
   "outputs": [],
   "source": [
    "test_scores = np.array([15, 60, 54, 32, 40, 30])"
   ]
  },
  {
   "cell_type": "code",
   "execution_count": 58,
   "metadata": {},
   "outputs": [],
   "source": [
    "N_games = 10"
   ]
  },
  {
   "cell_type": "code",
   "execution_count": 60,
   "metadata": {},
   "outputs": [
    {
     "data": {
      "text/plain": [
       "array([1.5, 6. , 5.4, 3.2, 4. , 3. ])"
      ]
     },
     "execution_count": 60,
     "metadata": {},
     "output_type": "execute_result"
    }
   ],
   "source": [
    "test_scores/N_games"
   ]
  },
  {
   "cell_type": "code",
   "execution_count": 56,
   "metadata": {},
   "outputs": [],
   "source": [
    "test_scores2 = np.array([1, 6, 5, 3, 4, 3])"
   ]
  },
  {
   "cell_type": "code",
   "execution_count": 61,
   "metadata": {},
   "outputs": [
    {
     "data": {
      "text/plain": [
       "array([1., 6., 5., 3., 4., 3.])"
      ]
     },
     "execution_count": 61,
     "metadata": {},
     "output_type": "execute_result"
    }
   ],
   "source": [
    "test_scores2/1"
   ]
  },
  {
   "cell_type": "code",
   "execution_count": null,
   "metadata": {},
   "outputs": [],
   "source": []
  },
  {
   "cell_type": "markdown",
   "metadata": {},
   "source": [
    "# Randomisation of participants into teams of ten:"
   ]
  },
  {
   "cell_type": "code",
   "execution_count": 3,
   "metadata": {},
   "outputs": [],
   "source": [
    "with open('participants.txt', 'r') as data:\n",
    "    participants = data.read().split('\\n')"
   ]
  },
  {
   "cell_type": "code",
   "execution_count": 4,
   "metadata": {},
   "outputs": [],
   "source": [
    "participants\n",
    "shuffled_participants = participants.copy()"
   ]
  },
  {
   "cell_type": "code",
   "execution_count": 5,
   "metadata": {},
   "outputs": [
    {
     "data": {
      "text/plain": [
       "31"
      ]
     },
     "execution_count": 5,
     "metadata": {},
     "output_type": "execute_result"
    }
   ],
   "source": [
    "# Randomise participants into groups of ten:\n",
    "len(participants)"
   ]
  },
  {
   "cell_type": "code",
   "execution_count": 8,
   "metadata": {},
   "outputs": [
    {
     "data": {
      "text/plain": [
       "['Chen',\n",
       " 'Cherrybanana87',\n",
       " 'Manopoli',\n",
       " 'Ella',\n",
       " 'Kinetos',\n",
       " '.0.',\n",
       " 'Frosty',\n",
       " 'Bang',\n",
       " 'Alan Beads',\n",
       " 'Robin',\n",
       " 'Jackuth',\n",
       " 'Crypta',\n",
       " 'BottleFly',\n",
       " 'Swan',\n",
       " 'Corgzie',\n",
       " 'Lake',\n",
       " 'BigManJosh',\n",
       " 'Sparkeh',\n",
       " 'Tomato',\n",
       " 'Nugget',\n",
       " 'DobbyD',\n",
       " 'Yawar',\n",
       " 'Ducky',\n",
       " 'Shieks',\n",
       " 'Betelgeuse',\n",
       " 'WheresGoose',\n",
       " 'Pressi',\n",
       " 'Musique',\n",
       " 'Coz',\n",
       " 'DarkWais',\n",
       " 'Mikel']"
      ]
     },
     "execution_count": 8,
     "metadata": {},
     "output_type": "execute_result"
    }
   ],
   "source": [
    "shuffled_participants"
   ]
  },
  {
   "cell_type": "code",
   "execution_count": 32,
   "metadata": {},
   "outputs": [],
   "source": [
    "# shuffled_participants"
   ]
  },
  {
   "cell_type": "code",
   "execution_count": 33,
   "metadata": {},
   "outputs": [],
   "source": [
    "# lobby1 = shuffled_participants[:10]\n",
    "# lobby2 = shuffled_participants[10:20]\n",
    "# lobby3 = shuffled_participants[20:30]\n",
    "# lobby4 = shuffled_participants[30:]"
   ]
  },
  {
   "cell_type": "code",
   "execution_count": 34,
   "metadata": {},
   "outputs": [],
   "source": [
    "# lobby1, len(lobby1)"
   ]
  },
  {
   "cell_type": "code",
   "execution_count": 35,
   "metadata": {},
   "outputs": [],
   "source": [
    "# lobby2, len(lobby2)"
   ]
  },
  {
   "cell_type": "code",
   "execution_count": 36,
   "metadata": {},
   "outputs": [],
   "source": [
    "# lobby3, len(lobby3)"
   ]
  },
  {
   "cell_type": "code",
   "execution_count": 37,
   "metadata": {},
   "outputs": [],
   "source": [
    "# lobby4, len(lobby4)"
   ]
  },
  {
   "cell_type": "markdown",
   "metadata": {},
   "source": [
    "### Seeding admins into the lobbies:"
   ]
  },
  {
   "cell_type": "code",
   "execution_count": 13,
   "metadata": {},
   "outputs": [],
   "source": [
    "participants\n",
    "#index value of admins in participants list:\n",
    "admins = [0, 2, 8, 13, 15, 25]"
   ]
  },
  {
   "cell_type": "code",
   "execution_count": 57,
   "metadata": {},
   "outputs": [],
   "source": [
    "\n",
    "# lobby1.append(participants[0])\n",
    "# lobby2.append(participants[25])\n",
    "# lobby3.append(participants[2])\n",
    "# lobby1.append(participants[13])\n",
    "# lobby2.append(participants[15])\n",
    "# lobby3.append(participants[8])"
   ]
  },
  {
   "cell_type": "code",
   "execution_count": 12,
   "metadata": {},
   "outputs": [
    {
     "data": {
      "text/plain": [
       "['Cherrybanana87',\n",
       " 'Manopoli',\n",
       " 'Kinetos',\n",
       " '.0.',\n",
       " 'Frosty',\n",
       " 'Bang',\n",
       " 'Alan Beads',\n",
       " 'Robin',\n",
       " 'Crypta',\n",
       " 'BottleFly',\n",
       " 'Swan',\n",
       " 'Corgzie',\n",
       " 'Lake',\n",
       " 'Sparkeh',\n",
       " 'Tomato',\n",
       " 'DobbyD',\n",
       " 'Yawar',\n",
       " 'Ducky',\n",
       " 'Shieks',\n",
       " 'Betelgeuse',\n",
       " 'WheresGoose',\n",
       " 'Pressi',\n",
       " 'Musique',\n",
       " 'Coz',\n",
       " 'DarkWais']"
      ]
     },
     "execution_count": 12,
     "metadata": {},
     "output_type": "execute_result"
    }
   ],
   "source": []
  },
  {
   "cell_type": "code",
   "execution_count": null,
   "metadata": {},
   "outputs": [],
   "source": []
  }
 ],
 "metadata": {
  "kernelspec": {
   "display_name": "Python 3",
   "language": "python",
   "name": "python3"
  },
  "language_info": {
   "codemirror_mode": {
    "name": "ipython",
    "version": 3
   },
   "file_extension": ".py",
   "mimetype": "text/x-python",
   "name": "python",
   "nbconvert_exporter": "python",
   "pygments_lexer": "ipython3",
   "version": "3.7.4"
  }
 },
 "nbformat": 4,
 "nbformat_minor": 4
}
